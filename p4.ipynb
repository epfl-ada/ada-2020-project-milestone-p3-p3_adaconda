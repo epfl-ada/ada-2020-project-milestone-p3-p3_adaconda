{
 "cells": [
  {
   "cell_type": "markdown",
   "metadata": {},
   "source": [
    "# Project P4 report\n",
    "\n"
   ]
  },
  {
   "cell_type": "code",
   "execution_count": 2,
   "metadata": {},
   "outputs": [],
   "source": [
    "#import libraries to use dataframes\n",
    "import pandas as pd\n",
    "import numpy as np\n",
    "\n",
    "#we use sklearn for the logistic regression learning algorithm\n",
    "from sklearn.linear_model import LogisticRegression, LinearRegression\n",
    "from sklearn.model_selection import train_test_split\n",
    "import matplotlib.pyplot as plt\n",
    "import seaborn as sns\n",
    "import sklearn.metrics as metrics\n",
    "from sklearn.model_selection import StratifiedKFold\n",
    "from sklearn.metrics import accuracy_score\n",
    "from sklearn.metrics import plot_roc_curve\n",
    "from sklearn.metrics import auc\n",
    "\n",
    "\n",
    "#import the data\n",
    "DATA_FOLDER = 'data/'\n",
    "DATASET = DATA_FOLDER+\"SambnisImp.csv\"\n",
    "\n",
    "#Opening and loading of files\n",
    "df = pd.read_csv(DATASET, error_bad_lines=False, warn_bad_lines=True)"
   ]
  },
  {
   "cell_type": "code",
   "execution_count": 3,
   "metadata": {},
   "outputs": [],
   "source": [
    "x_fearon = df[[\"warhist\", \"ln_gdpen\", \"lpopns\", \"lmtnest\",\n",
    "    \"ncontig\", \"oil\", \"nwstate\", \"inst3\", \"pol4\", \"ef\", \"relfrac\"]]\n",
    "\n",
    "x_collier = df[[\"sxpnew\", \"sxpsq\", \"ln_gdpen\", \"gdpgrowth\",\n",
    "    \"warhist\", \"lmtnest\", \"ef\", \"popdense\", \"lpopns\", \"coldwar\", \"seceduc\",\n",
    "    \"ptime\"]]\n",
    "\n",
    "x_hegre = df[[\"lpopns\", \"ln_gdpen\", \"inst3\", \"parreg\", \"geo34\",\n",
    "    \"proxregc\", \"gdpgrowth\", \"anoc\", \"partfree\", \"nat_war\", \"lmtnest\",\n",
    "    \"decade1\", \"pol4sq\", \"nwstate\", \"regd4_alt\", \"etdo4590\", \"milper\", \"geo1\",\n",
    "    \"tnatwar\", \"presi\"]]\n",
    "\n",
    "y = df[\"warstds\"]"
   ]
  },
  {
   "cell_type": "code",
   "execution_count": 38,
   "metadata": {},
   "outputs": [
    {
     "name": "stdout",
     "output_type": "stream",
     "text": [
      "Feature ranking:\n",
      "1. feature 7 (0.220000)\n",
      "2. feature 18 (0.188807)\n",
      "3. feature 11 (0.146925)\n",
      "4. feature 4 (0.075462)\n",
      "5. feature 5 (0.053614)\n",
      "6. feature 15 (0.052413)\n",
      "7. feature 13 (0.051078)\n",
      "8. feature 0 (0.046428)\n",
      "9. feature 2 (0.046222)\n",
      "10. feature 1 (0.037903)\n",
      "11. feature 14 (0.028764)\n",
      "12. feature 17 (0.026028)\n",
      "13. feature 16 (0.013242)\n",
      "14. feature 8 (0.004909)\n",
      "15. feature 6 (0.004743)\n",
      "16. feature 10 (0.003064)\n",
      "17. feature 9 (0.000397)\n",
      "18. feature 12 (0.000000)\n",
      "19. feature 3 (0.000000)\n"
     ]
    },
    {
     "data": {
      "image/png": "[encoded data removed]",
      "text/plain": [
       "<Figure size 432x288 with 1 Axes>"
      ]
     },
     "metadata": {
      "needs_background": "light"
     },
     "output_type": "display_data"
    },
    {
     "data": {
      "image/png": "[encoded data removed]",
      "text/plain": [
       "<Figure size 432x288 with 1 Axes>"
      ]
     },
     "metadata": {
      "needs_background": "light"
     },
     "output_type": "display_data"
    }
   ],
   "source": [
    "# Random forest classifier\n",
    "from sklearn.ensemble import RandomForestClassifier\n",
    "from sklearn.datasets import make_classification\n",
    "from sklearn.inspection import permutation_importance\n",
    "\n",
    "X_rf = df[[\"gdpgrowth\",\"nmgdp\",\"life\",\"geo1\", \"infant\", \"trade\", \"lmtnest\", \"illiteracy\", \"dlang\", \"anocracy\", \"regd4_alt\"\n",
    "           , \"sxpsq\", \"dem\", \"milper\", \"popdense\", \"inst3\", \"ef\", \"seceduc\", \"sxpnew\"]]\n",
    "\n",
    "\n",
    "X_train, X_test, y_train, y_test = train_test_split(X_rf, y, test_size=0.3, random_state=42)\n",
    "\n",
    "clf = RandomForestClassifier(max_depth=2, random_state=0)\n",
    "clf.fit(X_train, y_train)\n",
    "\n",
    "gini = clf.feature_importances_ #(normalize=False)\n",
    "\n",
    "\n",
    "std = np.std([tree.feature_importances_ for tree in clf.estimators_],\n",
    "             axis=0)\n",
    "indices = np.argsort(gini)[::-1]\n",
    "\n",
    "# Print the feature ranking\n",
    "print(\"Feature ranking:\")\n",
    "\n",
    "for f in range(X_test.shape[1]):\n",
    "    print(\"%d. feature %d (%f)\" % (f + 1, indices[f], gini[indices[f]]))\n",
    "\n",
    "# Plot the impurity-based feature importances of the forest\n",
    "plt.figure()\n",
    "plt.title(\"Feature importances\")\n",
    "plt.bar(range(X_test.shape[1]), gini[indices],\n",
    "        color=\"r\", yerr=std[indices], align=\"center\")\n",
    "plt.xticks(range(X_test.shape[1]), indices)\n",
    "plt.xlim([-1, X_test.shape[1]])\n",
    "plt.show()\n",
    "\n",
    "\n",
    "\n",
    "\n",
    "# calculate the fpr and tpr for all thresholds of the classification\n",
    "probs = clf.predict_proba(X_test)\n",
    "preds = probs[:,1]\n",
    "fpr, tpr, threshold = metrics.roc_curve(y_test, preds)\n",
    "roc_auc = metrics.auc(fpr, tpr)\n",
    "\n",
    "# method I: plt\n",
    "import matplotlib.pyplot as plt\n",
    "plt.title('Receiver Operating Characteristic')\n",
    "plt.plot(fpr, tpr, 'b', label = 'AUC = %0.2f' % roc_auc)\n",
    "plt.legend(loc = 'lower right')\n",
    "plt.plot([0, 1], [0, 1],'r--')\n",
    "plt.xlim([0, 1])\n",
    "plt.ylim([0, 1.02])\n",
    "plt.ylabel('True Positive Rate')\n",
    "plt.xlabel('False Positive Rate')\n",
    "plt.show()\n",
    "\n"
   ]
  }
 ],
 "metadata": {
  "kernelspec": {
   "display_name": "Python 3",
   "language": "python",
   "name": "python3"
  },
  "language_info": {
   "codemirror_mode": {
    "name": "ipython",
    "version": 3
   },
   "file_extension": ".py",
   "mimetype": "text/x-python",
   "name": "python",
   "nbconvert_exporter": "python",
   "pygments_lexer": "ipython3",
   "version": "3.8.3"
  }
 },
 "nbformat": 4,
 "nbformat_minor": 4
}
